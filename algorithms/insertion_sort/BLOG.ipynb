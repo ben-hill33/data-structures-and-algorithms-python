{
 "metadata": {
  "language_info": {
   "codemirror_mode": {
    "name": "ipython",
    "version": 3
   },
   "file_extension": ".py",
   "mimetype": "text/x-python",
   "name": "python",
   "nbconvert_exporter": "python",
   "pygments_lexer": "ipython3",
   "version": "3.9.1-final"
  },
  "orig_nbformat": 2,
  "kernelspec": {
   "name": "python3",
   "display_name": "Python 3.9.1 64-bit ('.venv')",
   "metadata": {
    "interpreter": {
     "hash": "a145a99b2217ba7f78b8e95ad7cc35c086bc8a34cc3e7c3b485f337822333be7"
    }
   }
  }
 },
 "nbformat": 4,
 "nbformat_minor": 2,
 "cells": [
  {
   "source": [
    "# Insertion Sort"
   ],
   "cell_type": "markdown",
   "metadata": {}
  },
  {
   "source": [
    "The insertion sort algorithm is a simple sorting algorithm that builds a sorted array(or list) one item(index) at a time. \n",
    "\n",
    "It is much less efficient on large lists than more advanced algorithms such as _quicksort_, _heapsort_, or _merge sort_, but it does provide several advantages."
   ],
   "cell_type": "markdown",
   "metadata": {}
  },
  {
   "source": [
    "- Its implementation is fairly simple\n",
    "- Efficient for small data sets\n",
    "- More efficient in practice than most other simple quadratic (O(n2)) algorithms such as _selection sort_ or _bubble sort_\n",
    "- Adaptive, meaning it's efficient for data sets that are already mostly sorted\n",
    "- **Time complexity** is O(kn) when each element in the input is no more than k spaces away from its sorted position\n",
    "- Stable, meaning it doesn't change the relative order of elements with equal keys\n",
    "- In-place, meaning it only requires a constant amount O(1) of additional memory space\n",
    "- Can sort a list as it receives it"
   ],
   "cell_type": "markdown",
   "metadata": {}
  },
  {
   "source": [
    "## Algorithm"
   ],
   "cell_type": "markdown",
   "metadata": {}
  },
  {
   "source": [
    "Insertion sort iterates, consuming one input element each repetition, and grows a sorted output list.\n",
    "\n",
    "At each iteration, insertion sort removes one element from the input data, finds the location is belongs within the sorted list, and inserts it there. It repeats until no input elements remain.\n",
    "\n",
    "Sorting is typically done in-place, by iterating up the array, growing the sorted list behind it. At each array-position, it checks the value there against the largest value in the sorted list (which happens to be next to it, in the previous array-position checked). \n",
    "- If the element it's checking against is larger, it leaves the larger element in place and moves to the next.\n",
    "- If smaller, it finds the correct position within the sorted list, shifts all the larger values up to make a space, and inserts into that correct position.\n",
    "\n",
    "The resulting array after _k_ iterations has the property where the first _k_ plus (+) 1 entries are sorted. Plus one because the first entry is skipped. In each iteration the first remaining entry of the input is removed, and inserted into the result at the correct position, thus extending the result. \n",
    "\n",
    "The most common variant of insertion sort, which operates on arrays(lists) is described as follows:\n",
    "1. Suppose there exists a function called _insert_ designed to insert a value into a sorted sequence at the beginning of an array. It operates by beginning at the end of the sequence and shifting each element one place to the right until a suitable position is found for the new element. The function has the side effect of overwriting the value stored immediately after the sorted sequence in the array.\n",
    "2. To perform an insertion sort, begin at the left-most element of the array and invoke _insert_ to insert each element encountered into its correct position. The ordered sequence into which the element is inserted is stored at the beginning of the array in the set of indices already examined. Each insertion overwrites a single value; the value being inserted. "
   ],
   "cell_type": "markdown",
   "metadata": {}
  },
  {
   "source": [
    "Below is my implementation with random inputs, reverse inputs, and nearly sorted inputs; and the subsequent call of my insertion sort function, displaying the sorted output. Enjoy!"
   ],
   "cell_type": "markdown",
   "metadata": {}
  },
  {
   "cell_type": "code",
   "execution_count": 1,
   "metadata": {},
   "outputs": [],
   "source": [
    "def insertion_sort(arr):\n",
    "    \n",
    "    # For every index in array\n",
    "    for i in range(1,len(arr)):\n",
    "        \n",
    "        # Set current values and position\n",
    "        currentvalue = arr[i]\n",
    "        position = i\n",
    "        \n",
    "        # Sorted Sublist\n",
    "        while position>0 and arr[position-1]>currentvalue:\n",
    "            \n",
    "            arr[position]=arr[position-1]\n",
    "            position = position-1\n",
    "\n",
    "        arr[position]=currentvalue\n"
   ]
  },
  {
   "cell_type": "code",
   "execution_count": 2,
   "metadata": {},
   "outputs": [
    {
     "output_type": "execute_result",
     "data": {
      "text/plain": [
       "[4, 8, 15, 16, 23, 42]"
      ]
     },
     "metadata": {},
     "execution_count": 2
    }
   ],
   "source": [
    "input_arr = [8,4,23,42,16,15]\n",
    "insertion_sort(input_arr)\n",
    "input_arr"
   ]
  },
  {
   "cell_type": "code",
   "execution_count": 3,
   "metadata": {},
   "outputs": [
    {
     "output_type": "execute_result",
     "data": {
      "text/plain": [
       "[-2, 5, 8, 12, 18, 20]"
      ]
     },
     "metadata": {},
     "execution_count": 3
    }
   ],
   "source": [
    "reverse_sorted = [20,18,12,8,5,-2]\n",
    "insertion_sort(reverse_sorted)\n",
    "reverse_sorted"
   ]
  },
  {
   "cell_type": "code",
   "execution_count": 4,
   "metadata": {},
   "outputs": [
    {
     "output_type": "execute_result",
     "data": {
      "text/plain": [
       "[5, 5, 5, 7, 7, 12]"
      ]
     },
     "metadata": {},
     "execution_count": 4
    }
   ],
   "source": [
    "nearly_sorted = [5,12,7,5,5,7]\n",
    "insertion_sort(nearly_sorted)\n",
    "nearly_sorted"
   ]
  },
  {
   "source": [
    "Time Complexity: O(n*2)\n",
    "Space Complexity: O(1)"
   ],
   "cell_type": "markdown",
   "metadata": {}
  }
 ]
}